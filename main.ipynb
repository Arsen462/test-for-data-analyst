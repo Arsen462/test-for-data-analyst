{
 "cells": [
  {
   "cell_type": "code",
   "execution_count": null,
   "metadata": {},
   "outputs": [],
   "source": [
    "import gsapi\n",
    "import numpy as np\n",
    "import pandas as pd\n",
    "import datetime as dt\n",
    "import time\n",
    "from datetime import datetime"
   ]
  },
  {
   "cell_type": "markdown",
   "metadata": {},
   "source": [
    "### Reading data from a Google Sheets document using the Google Sheets API"
   ]
  },
  {
   "cell_type": "code",
   "execution_count": null,
   "metadata": {},
   "outputs": [],
   "source": [
    "# load_data - the function of reading data from a Google Sheets document\n",
    "def load_data(spreadsheet_id, sheet_and_range):\n",
    "    data = gsapi.read_data(spreadsheet_id,sheet_and_range)\n",
    "    return pd.DataFrame(data[1:], columns=data[0])"
   ]
  },
  {
   "cell_type": "code",
   "execution_count": null,
   "metadata": {},
   "outputs": [],
   "source": [
    "spreadsheet_id = '1Ycg7zTxds9DZnDvTrFcyNNKuTUxg6Yy6WF0a8Wc02WQ' # document id\n",
    "list_sheets = ['transactions!A:D', 'clients!A:C','managers!A:C', 'leads!A:F'] # range of loaded data from each page"
   ]
  },
  {
   "cell_type": "code",
   "execution_count": null,
   "metadata": {},
   "outputs": [],
   "source": [
    "# reading the necessary data from the pages of the document\n",
    "transactions = load_data(spreadsheet_id,list_sheets[0])\n",
    "clients = load_data(spreadsheet_id,list_sheets[1])\n",
    "managers = load_data(spreadsheet_id,list_sheets[2])\n",
    "leads = load_data(spreadsheet_id,list_sheets[3])"
   ]
  },
  {
   "cell_type": "markdown",
   "metadata": {},
   "source": [
    "### Cleaning and processing \"transactions\" data"
   ]
  },
  {
   "cell_type": "code",
   "execution_count": null,
   "metadata": {},
   "outputs": [],
   "source": [
    "# clean - data cleaning function\n",
    "def clean(data):\n",
    "    for i in data.columns:\n",
    "        data[i] = data[i].replace({'0001-01-01 00:00:00':np.nan})\n",
    "        data[i] = data[i].replace({'00000000-0000-0000-0000-000000000000':np.nan})\n",
    "        data[i] = data[i].replace({'':np.nan,'ig':'instagram','vkontakte':'vk',\n",
    "                                  'ycard#!/tproduct/225696739-1498486363994':'ycard',\n",
    "                                  'insta':'instagram'})"
   ]
  },
  {
   "cell_type": "code",
   "execution_count": null,
   "metadata": {},
   "outputs": [],
   "source": [
    "clean(transactions)\n",
    "transactions = transactions.rename(columns={\"created_at\":\"tran_created_at\", \"l_client_id\":\"client_id\"})\n",
    "transactions['m_real_amount'] = transactions['m_real_amount'].astype(int)\n",
    "transactions[\"tran_created_at\"] = pd.to_datetime(transactions[\"tran_created_at\"])"
   ]
  },
  {
   "cell_type": "code",
   "execution_count": null,
   "metadata": {},
   "outputs": [],
   "source": [
    "transactions = transactions.drop_duplicates()"
   ]
  },
  {
   "cell_type": "code",
   "execution_count": null,
   "metadata": {},
   "outputs": [],
   "source": [
    "print(transactions.shape)"
   ]
  },
  {
   "cell_type": "code",
   "execution_count": null,
   "metadata": {},
   "outputs": [],
   "source": [
    "transactions.head()"
   ]
  },
  {
   "cell_type": "markdown",
   "metadata": {},
   "source": [
    "### Cleaning and processing \"clients\" data"
   ]
  },
  {
   "cell_type": "code",
   "execution_count": null,
   "metadata": {},
   "outputs": [],
   "source": [
    "clean(clients)\n",
    "clients = clients.rename(columns={\"created_at\":\"client_created_at\", \"l_manager_id\":\"manager_id\"})\n",
    "clients['client_created_at'] = pd.to_datetime(clients['client_created_at'])"
   ]
  },
  {
   "cell_type": "code",
   "execution_count": null,
   "metadata": {},
   "outputs": [],
   "source": [
    "clients = clients.drop_duplicates()"
   ]
  },
  {
   "cell_type": "code",
   "execution_count": null,
   "metadata": {},
   "outputs": [],
   "source": [
    "print(clients.shape)"
   ]
  },
  {
   "cell_type": "code",
   "execution_count": null,
   "metadata": {},
   "outputs": [],
   "source": [
    "clients.head()"
   ]
  },
  {
   "cell_type": "markdown",
   "metadata": {},
   "source": [
    "### Cleaning and processing “leads” data"
   ]
  },
  {
   "cell_type": "code",
   "execution_count": null,
   "metadata": {},
   "outputs": [],
   "source": [
    "clean(leads)\n",
    "leads = leads.rename(columns={\"created_at\":\"lead_created_at\", \"l_manager_id\":\"manager_id\", \"l_client_id\":\"client_id\"})\n",
    "leads[\"lead_created_at\"] = pd.to_datetime(leads[\"lead_created_at\"])"
   ]
  },
  {
   "cell_type": "code",
   "execution_count": null,
   "metadata": {},
   "outputs": [],
   "source": [
    "leads = leads.drop_duplicates()"
   ]
  },
  {
   "cell_type": "code",
   "execution_count": null,
   "metadata": {},
   "outputs": [],
   "source": [
    "print(leads.shape)"
   ]
  },
  {
   "cell_type": "code",
   "execution_count": null,
   "metadata": {},
   "outputs": [],
   "source": [
    "# adding columns \"d_manager\" and \"d_club\"\n",
    "leads = leads.merge(managers, how='left', on='manager_id')"
   ]
  },
  {
   "cell_type": "code",
   "execution_count": null,
   "metadata": {},
   "outputs": [],
   "source": [
    "print(leads.shape)\n",
    "leads.head()"
   ]
  },
  {
   "cell_type": "markdown",
   "metadata": {},
   "source": [
    "### Generating metrics for the final report"
   ]
  },
  {
   "cell_type": "markdown",
   "metadata": {},
   "source": [
    "#### lead - number of orders"
   ]
  },
  {
   "cell_type": "code",
   "execution_count": null,
   "metadata": {},
   "outputs": [],
   "source": [
    "leads['lead'] = 1"
   ]
  },
  {
   "cell_type": "code",
   "execution_count": null,
   "metadata": {},
   "outputs": [],
   "source": [
    "print(leads.shape)\n",
    "leads.head()"
   ]
  },
  {
   "cell_type": "markdown",
   "metadata": {},
   "source": [
    "#### trash_lead - number of junk orders"
   ]
  },
  {
   "cell_type": "code",
   "execution_count": null,
   "metadata": {},
   "outputs": [],
   "source": [
    "leads['trash_lead'] = leads.client_id.isna().astype('int')"
   ]
  },
  {
   "cell_type": "code",
   "execution_count": null,
   "metadata": {},
   "outputs": [],
   "source": [
    "print(leads.shape)\n",
    "leads.head(3)"
   ]
  },
  {
   "cell_type": "markdown",
   "metadata": {},
   "source": [
    "#### new_lead - number of new orders (there were no orders and purchases from this client before)"
   ]
  },
  {
   "cell_type": "code",
   "execution_count": null,
   "metadata": {},
   "outputs": [],
   "source": [
    "min_date = leads.lead_created_at.min()\n",
    "print(min_date)"
   ]
  },
  {
   "cell_type": "code",
   "execution_count": null,
   "metadata": {},
   "outputs": [],
   "source": [
    "# generating new customers based on purchase data\n",
    "t = transactions[transactions.tran_created_at < min_date]\n",
    "new_client_t = pd.merge(leads,t[['client_id','tran_created_at']],how='inner')\n",
    "new_client_t['new_client_t'] = 1\n",
    "new_client_t = new_client_t[['client_id','new_client_t']]"
   ]
  },
  {
   "cell_type": "code",
   "execution_count": null,
   "metadata": {},
   "outputs": [],
   "source": [
    "# generating new clients based on data on previously registered clients\n",
    "c = clients[clients.client_created_at < min_date]\n",
    "new_client_c = pd.merge(leads,c[['client_id','client_created_at']],how='inner')\n",
    "new_client_c['new_client_c'] = 1\n",
    "new_client_c = new_client_c[['client_id','new_client_c']]"
   ]
  },
  {
   "cell_type": "code",
   "execution_count": null,
   "metadata": {},
   "outputs": [],
   "source": [
    "leads = pd.merge(leads,new_client_t, how='left').drop_duplicates()\n",
    "leads = pd.merge(leads,new_client_c, how='left').drop_duplicates()"
   ]
  },
  {
   "cell_type": "code",
   "execution_count": null,
   "metadata": {},
   "outputs": [],
   "source": [
    "# creating the 'new_lead' column\n",
    "new_client = ~(leads[['new_client_t','new_client_c']].sum(axis=1) > 0)\n",
    "leads['new_lead'] = new_client.astype(int)\n",
    "leads.drop(['new_client_t', 'new_client_c'], axis=1, inplace=True)"
   ]
  },
  {
   "cell_type": "code",
   "execution_count": null,
   "metadata": {},
   "outputs": [],
   "source": [
    "print(leads.shape)\n",
    "leads.head()"
   ]
  },
  {
   "cell_type": "markdown",
   "metadata": {},
   "source": [
    "#### buyer - number of buyers (those who bought within a week after the application)"
   ]
  },
  {
   "cell_type": "code",
   "execution_count": null,
   "metadata": {},
   "outputs": [],
   "source": [
    "# selecting new transactions where the purchase was made\n",
    "pur = transactions[transactions.m_real_amount > 0]\n",
    "pur = pur[pur.tran_created_at >= min_date]\n",
    "print(pur.shape)\n",
    "pur.head()"
   ]
  },
  {
   "cell_type": "code",
   "execution_count": null,
   "metadata": {},
   "outputs": [],
   "source": [
    "# selecting transactions that were made after the application was submitted by the client\n",
    "pur = pd.merge(pur,leads[['client_id','lead_created_at','lead_id']],how='inner')\n",
    "pur = pur[pur.tran_created_at > pur.lead_created_at]\n",
    "print(pur.shape)\n",
    "pur.head()"
   ]
  },
  {
   "cell_type": "code",
   "execution_count": null,
   "metadata": {},
   "outputs": [],
   "source": [
    "# selecting transactions that were made within a week after the application was submitted by the client\n",
    "week = dt.timedelta(days=7)\n",
    "pur = pur[(pur.tran_created_at - pur.lead_created_at) < week]\n",
    "pur = pur.drop_duplicates(subset=['transaction_id','tran_created_at','m_real_amount'], keep='last')\n",
    "print(pur.shape)\n",
    "pur.head()"
   ]
  },
  {
   "cell_type": "code",
   "execution_count": null,
   "metadata": {},
   "outputs": [],
   "source": [
    "# сreating the 'buyer' column\n",
    "buyers = pur.groupby('client_id').m_real_amount.sum()\n",
    "buyers = buyers.reset_index()\n",
    "leads = pd.merge(leads, buyers, how='left')\n",
    "leads['buyer'] = leads.m_real_amount.notna().astype(int)"
   ]
  },
  {
   "cell_type": "code",
   "execution_count": null,
   "metadata": {},
   "outputs": [],
   "source": [
    "print(leads.shape)\n",
    "leads.head()"
   ]
  },
  {
   "cell_type": "markdown",
   "metadata": {},
   "source": [
    "#### new_buyer - number of new buyers (those who bought within a week after the application, and had not bought earlier)"
   ]
  },
  {
   "cell_type": "code",
   "execution_count": null,
   "metadata": {},
   "outputs": [],
   "source": [
    "new_bayer = leads[['new_lead','buyer']].sum(axis=1)>1\n",
    "leads['new_buyer'] = new_bayer.astype(int)"
   ]
  },
  {
   "cell_type": "code",
   "execution_count": null,
   "metadata": {},
   "outputs": [],
   "source": [
    "print(leads.shape)\n",
    "leads.head()"
   ]
  },
  {
   "cell_type": "markdown",
   "metadata": {},
   "source": [
    "#### new_m_real_amount - income from new buyers’ purchases"
   ]
  },
  {
   "cell_type": "code",
   "execution_count": null,
   "metadata": {},
   "outputs": [],
   "source": [
    "leads['new_m_real_amount'] = leads.new_buyer * leads.m_real_amount"
   ]
  },
  {
   "cell_type": "code",
   "execution_count": null,
   "metadata": {},
   "outputs": [],
   "source": [
    "print(leads.shape)\n",
    "leads.head()"
   ]
  },
  {
   "cell_type": "code",
   "execution_count": null,
   "metadata": {},
   "outputs": [],
   "source": [
    "# filling missing values\n",
    "leads = leads.fillna(0)\n",
    "print(leads.shape)\n",
    "leads.head()"
   ]
  },
  {
   "cell_type": "markdown",
   "metadata": {},
   "source": [
    "### Final table and exporting data to a Google Sheets document using the Google Sheets API"
   ]
  },
  {
   "cell_type": "code",
   "execution_count": null,
   "metadata": {},
   "outputs": [],
   "source": [
    "# converting dates to days\n",
    "leads['lead_created_at'] = leads['lead_created_at'].dt.date\n",
    "leads['lead_created_at'] = leads['lead_created_at'].astype(str) \n",
    "leads.head()"
   ]
  },
  {
   "cell_type": "code",
   "execution_count": null,
   "metadata": {},
   "outputs": [],
   "source": [
    "dimensions = ['lead_created_at','d_utm_source','d_club','d_manager']\n",
    "metrics = ['lead','trash_lead','new_lead','buyer','new_buyer','new_m_real_amount']"
   ]
  },
  {
   "cell_type": "code",
   "execution_count": null,
   "metadata": {},
   "outputs": [],
   "source": [
    "df = leads[dimensions+metrics]\n",
    "df = df.sort_values(by=dimensions)"
   ]
  },
  {
   "cell_type": "code",
   "execution_count": null,
   "metadata": {},
   "outputs": [],
   "source": [
    "column_name = [df.columns.tolist()]\n",
    "push_data = df.values.tolist()"
   ]
  },
  {
   "cell_type": "code",
   "execution_count": null,
   "metadata": {},
   "outputs": [],
   "source": [
    "# document id\n",
    "spreadsheet_id = '1xWas0rwKUqqll8M1GoMmwK8xByAKfoj4wmtscbQjI7g'\n",
    "\n",
    "# range of exported data\n",
    "sheet_range1 = 'dataframe!A1:J'\n",
    "sheet_range2 = 'dataframe!A2:J'"
   ]
  },
  {
   "cell_type": "code",
   "execution_count": null,
   "metadata": {},
   "outputs": [],
   "source": [
    "# exporting data to a Google Sheets document\n",
    "gsapi.push_data(spreadsheet_id, sheet_range1, column_name)"
   ]
  },
  {
   "cell_type": "code",
   "execution_count": null,
   "metadata": {},
   "outputs": [],
   "source": [
    "gsapi.push_data(spreadsheet_id, sheet_range2, push_data)"
   ]
  },
  {
   "cell_type": "markdown",
   "metadata": {},
   "source": [
    "### Pivot table: \n",
    "https://docs.google.com/spreadsheets/d/1xWas0rwKUqqll8M1GoMmwK8xByAKfoj4wmtscbQjI7g/edit#gid=1859765491"
   ]
  }
 ],
 "metadata": {
  "kernelspec": {
   "display_name": "Python 3",
   "language": "python",
   "name": "python3"
  },
  "language_info": {
   "codemirror_mode": {
    "name": "ipython",
    "version": 3
   },
   "file_extension": ".py",
   "mimetype": "text/x-python",
   "name": "python",
   "nbconvert_exporter": "python",
   "pygments_lexer": "ipython3",
   "version": "3.8.5"
  }
 },
 "nbformat": 4,
 "nbformat_minor": 4
}
